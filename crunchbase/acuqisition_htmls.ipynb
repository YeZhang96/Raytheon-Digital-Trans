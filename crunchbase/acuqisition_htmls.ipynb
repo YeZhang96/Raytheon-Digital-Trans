{
 "cells": [
  {
   "cell_type": "code",
   "execution_count": 62,
   "metadata": {},
   "outputs": [],
   "source": [
    "import requests\n",
    "\n",
    "# paste headers of your search request here. \n",
    "headers = {\n",
    "    'authority': 'www.crunchbase.com',\n",
    "    'cache-control': 'max-age=0',\n",
    "    'upgrade-insecure-requests': '1',\n",
    "    'user-agent': 'Mozilla/5.0 (X11; Linux x86_64) AppleWebKit/537.36 (KHTML, like Gecko) Chrome/79.0.3945.130 Safari/537.36',\n",
    "    'sec-fetch-user': '?1',\n",
    "    'accept': 'text/html,application/xhtml+xml,application/xml;q=0.9,image/webp,image/apng,*/*;q=0.8,application/signed-exchange;v=b3;q=0.9',\n",
    "    'sec-fetch-site': 'same-origin',\n",
    "    'sec-fetch-mode': 'navigate',\n",
    "    # paste url of your search here\n",
    "    'referer': 'https://www.crunchbase.com/search/acquisitions/a71aa5279dc60d5380341891601db31f',\n",
    "    'accept-encoding': 'gzip, deflate, br',\n",
    "    'accept-language': 'en-US,en;q=0.9,zh-CN;q=0.8,zh;q=0.7,zh-TW;q=0.6',\n",
    "    'cookie': '__cfduid=d5c4cb363a8882aaa5734eabd3c0694b71580699714; _pxvid=65adb221-4633-11ea-b912-1f6ca5c0111c; _ga=GA1.2.885643739.1580699717; _fbp=fb.1.1580699717586.1571519608; _mkto_trk=id:976-JJA-800&token:_mch-crunchbase.com-1580699766530-74820; _hjid=483d5199-89e9-4c17-a395-aac9e1401a5b; __qca=P0-842497040-1580699766526; __zlcmid=wZisuTC51m0zOW; _delighted_fst=1581103926307:{}; _biz_uid=9e63e99509d44dc3a6e7078cf0e66107; _biz_flagsA=%7B%22Version%22%3A1%2C%22Mkto%22%3A%221%22%2C%22XDomain%22%3A%221%22%7D; _gid=GA1.2.1950120841.1582573368; _biz_nA=9; _biz_pendingA=%5B%5D; _hp2_props.973801186=%7B%22Logged%20In%22%3Atrue%2C%22Pro%22%3Atrue%2C%22cbPro%22%3Atrue%7D; cid=rBsL315UalMHuAAvGVusAg==; _pxhd=a9ef46f0cea939059a0600741affa56f740d014c30cd3b19e28c9d94b22c9063:65adb221-4633-11ea-b912-1f6ca5c0111c; fs_uid=rs.fullstory.com#BA8KZ#5534291980943360:4978677055717376#8bda42ce#/1612975244; _hp2_ses_props.973801186=%7B%22r%22%3A%22https%3A%2F%2Fwww.crunchbase.com%2Fsearch%2Facquisitions%2F20d5461b49721e5e91a5bdb3fba7ece9%3FpageId%3D8_a_799de74c-a85b-84a4-9915-f45af67b5687%22%2C%22ts%22%3A1582649899872%2C%22d%22%3A%22www.crunchbase.com%22%2C%22h%22%3A%22%2Fsearch%2Facquisitions%2Fd652ab2826333c42bd4da78276a3e3ed%22%7D; authcookie=eyJhbGciOiJIUzUxMiJ9.eyJqdGkiOiJmOGIyM2Y2ZC1kZmFjLTQxMzktYWJmYi1lMDM1MzUzY2VhZjciLCJpc3MiOiJ1c2Vyc2VydmljZV9iMzFlNWM2ZV8xOTIiLCJzdWIiOiJjMDg3MDU1YS1hNmQ5LTQwOGQtYTdhYy00MWU0ZTM1MThjNjUiLCJleHAiOjE1ODI2NTEyMDksImlhdCI6MTU4MjY1MDkwOSwicHJpdmF0ZSI6IlhBbVRTc2V5enVsWjVuRE5BTnlJOTRuUjNoQ01tN0wvczVwaGdQekpFZDdKVXB5akU3NGVYbjF6MU55WDB2Qno0anZveGZJZlFLd1hKalR3TW02V1JJL1Y0ZkFkczhBcVIxVmxVRE11dDd5OTNBbzhYWDhsa0NQSFJCN3kwQlZzTDFXZ25yNjluRWZFdzFvbEZsS3Z6a0pzWjRpL0pQSitnbjlGa1dPZXMvVmtrd21kNFZ1MGxxeTFzVC9XVk9vbFBKQUJtWUduUWlNVTg5YWthcWRCYzdDWFdWNE4wdDFhVHUxUVZidWprcUQwUU5BcE9mNWR6cXh5ZFRWUTdyRkFQZnkzYmpUTENHbEJjVzVYaUpjWUJRL29JOVliNy9XdTBTYnlPWkZjdU83VUNDOFQwWi91RXFZNHlnQ1kzckorcGxMemVqK1VJbEkwMFFTM25UWXlrZz09In0.p1XyWQuTr0PMk5ShEd0MsqxBm06Uj3xuPagNpzpA2hSzolTTo97KYuZP4-4u1wnJBAUNoSf4x6e3CTf9hOtc_Q; _hp2_id.973801186=%7B%22userId%22%3A%224901966277215423%22%2C%22pageviewId%22%3A%228600721493718199%22%2C%22sessionId%22%3A%228328989152907450%22%2C%22identity%22%3A%22zy080621%40gmail.com%22%2C%22trackerVersion%22%3A%224.0%22%2C%22identityField%22%3Anull%2C%22isIdentified%22%3A1%2C%22oldIdentity%22%3Anull%7D',\n",
    "}\n"
   ]
  },
  {
   "cell_type": "code",
   "execution_count": 63,
   "metadata": {},
   "outputs": [
    {
     "name": "stdout",
     "output_type": "stream",
     "text": [
      "/search/acquisitions/a71aa5279dc60d5380341891601db31f\n",
      "/search/acquisitions/a71aa5279dc60d5380341891601db31f?pageId=2_a_9725e859-bbf0-42e9-be49-0f0bfe31ef09\n",
      "/search/acquisitions/a71aa5279dc60d5380341891601db31f?pageId=3_a_8c1d7d1e-3d81-12dd-5ae2-f67d11e72c01\n",
      "/search/acquisitions/a71aa5279dc60d5380341891601db31f?pageId=4_a_158c325d-c927-5f35-ec6d-043a1ee1eb3a\n",
      "/search/acquisitions/a71aa5279dc60d5380341891601db31f?pageId=5_a_643e8d3c-7d75-0ec8-e36c-927819af9914\n",
      "/search/acquisitions/a71aa5279dc60d5380341891601db31f?pageId=6_a_ddf55cd7-78e5-61b2-589f-6ebd79795181\n",
      "/search/acquisitions/a71aa5279dc60d5380341891601db31f?pageId=7_a_31caae6d-b9c5-accb-61e0-b913d541ddc8\n",
      "/search/acquisitions/a71aa5279dc60d5380341891601db31f?pageId=8_a_00e02bf3-4994-9283-f861-7fc9adfbdf72\n",
      "/search/acquisitions/a71aa5279dc60d5380341891601db31f?pageId=9_a_0fec8ae3-2976-ba09-cd33-0b558835013f\n",
      "/search/acquisitions/a71aa5279dc60d5380341891601db31f?pageId=10_a_9dd04bdd-1fb6-b85a-2b84-54fd14c8a540\n",
      "/search/acquisitions/a71aa5279dc60d5380341891601db31f?pageId=11_a_c572dc53-3084-c3fa-c709-dc31d4b319c1\n",
      "/search/acquisitions/a71aa5279dc60d5380341891601db31f?pageId=12_a_efc2d75d-f8f5-e0ec-a059-a3d40bc8b582\n",
      "/search/acquisitions/a71aa5279dc60d5380341891601db31f?pageId=13_a_8769fbcb-08b4-423d-8782-ae569f9543b5\n",
      "/search/acquisitions/a71aa5279dc60d5380341891601db31f?pageId=14_a_0a40ee08-14a5-9fb3-c929-7ca5377f2a47\n",
      "/search/acquisitions/a71aa5279dc60d5380341891601db31f?pageId=15_a_02f99728-1227-6ea6-ea99-606f68c8e1c7\n",
      "/search/acquisitions/a71aa5279dc60d5380341891601db31f?pageId=16_a_d4502bfd-2cc1-d845-be1a-1a6c1062c0b4\n",
      "/search/acquisitions/a71aa5279dc60d5380341891601db31f?pageId=17_a_a8658961-c6f9-dd38-f5d2-2fdce5e1e4ae\n",
      "/search/acquisitions/a71aa5279dc60d5380341891601db31f?pageId=18_a_9bce819f-7c0a-50b6-001a-ffa49ea3ba2c\n"
     ]
    }
   ],
   "source": [
    "from bs4 import BeautifulSoup\n",
    "import os\n",
    "import re\n",
    "import time\n",
    "from random import random\n",
    "\n",
    "# paste url of your search here\n",
    "startPage = '/search/acquisitions/a71aa5279dc60d5380341891601db31f'\n",
    "pageId = 0\n",
    "pageQueue = []\n",
    "pageQueue.append(startPage)\n",
    "while (len(pageQueue) > 0):\n",
    "    page = pageQueue.pop(0)\n",
    "    print(page)\n",
    "    pageId += 1\n",
    "    response = requests.get('https://www.crunchbase.com' + page, headers=headers)\n",
    "    html = response.text\n",
    "    # save html\n",
    "    with open(\"./htmls/\" + headers[\"referer\"][-10:] + str(pageId) + '.html', 'w+') as f:\n",
    "        f.write(html)\n",
    "    # parse html\n",
    "    soup = BeautifulSoup(html, \"html.parser\")\n",
    "    # get next page\n",
    "    next_page_href = re.compile(r\".*pageId=\" + str(pageId + 1) +\".*\")\n",
    "    next_page = soup.find(\"a\", {\"href\" : next_page_href})\n",
    "    if (next_page is not None) :\n",
    "        pageQueue.append(next_page[\"href\"])\n",
    "    \n",
    "    # sleep\n",
    "    secs = 5 + (random() + random()) * 5\n",
    "    time.sleep(secs)\n"
   ]
  },
  {
   "cell_type": "code",
   "execution_count": 17,
   "metadata": {},
   "outputs": [
    {
     "ename": "TypeError",
     "evalue": "'NoneType' object is not subscriptable",
     "output_type": "error",
     "traceback": [
      "\u001b[0;31m---------------------------------------------------------------------------\u001b[0m",
      "\u001b[0;31mTypeError\u001b[0m                                 Traceback (most recent call last)",
      "\u001b[0;32m<ipython-input-17-22d4f5aba1f7>\u001b[0m in \u001b[0;36m<module>\u001b[0;34m()\u001b[0m\n\u001b[1;32m      1\u001b[0m \u001b[0mnext_page_href\u001b[0m \u001b[0;34m=\u001b[0m \u001b[0mre\u001b[0m\u001b[0;34m.\u001b[0m\u001b[0mcompile\u001b[0m\u001b[0;34m(\u001b[0m\u001b[0;34mr\".*pageId.*\"\u001b[0m\u001b[0;34m)\u001b[0m\u001b[0;34m\u001b[0m\u001b[0;34m\u001b[0m\u001b[0m\n\u001b[0;32m----> 2\u001b[0;31m \u001b[0msoup\u001b[0m\u001b[0;34m.\u001b[0m\u001b[0mfind\u001b[0m\u001b[0;34m(\u001b[0m\u001b[0;34m\"a\"\u001b[0m\u001b[0;34m,\u001b[0m \u001b[0;34m{\u001b[0m\u001b[0;34m\"href\"\u001b[0m \u001b[0;34m:\u001b[0m \u001b[0;34m\"sdfs\"\u001b[0m\u001b[0;34m}\u001b[0m\u001b[0;34m)\u001b[0m\u001b[0;34m[\u001b[0m\u001b[0;34m\"href\"\u001b[0m\u001b[0;34m]\u001b[0m\u001b[0;34m\u001b[0m\u001b[0;34m\u001b[0m\u001b[0m\n\u001b[0m",
      "\u001b[0;31mTypeError\u001b[0m: 'NoneType' object is not subscriptable"
     ]
    }
   ],
   "source": [
    "next_page_href = re.compile(r\".*pageId.*\")\n",
    "soup.find(\"a\", {\"href\" : next_page_href})[\"href\"]"
   ]
  },
  {
   "cell_type": "code",
   "execution_count": 20,
   "metadata": {},
   "outputs": [
    {
     "data": {
      "text/plain": [
       "'92a932b73e'"
      ]
     },
     "execution_count": 20,
     "metadata": {},
     "output_type": "execute_result"
    }
   ],
   "source": [
    "headers[\"referer\"][-10:]"
   ]
  },
  {
   "cell_type": "code",
   "execution_count": 24,
   "metadata": {},
   "outputs": [
    {
     "data": {
      "text/plain": [
       "0"
      ]
     },
     "execution_count": 24,
     "metadata": {},
     "output_type": "execute_result"
    }
   ],
   "source": [
    "a = list(range(10))\n",
    "a.pop(0)"
   ]
  },
  {
   "cell_type": "code",
   "execution_count": 39,
   "metadata": {},
   "outputs": [
    {
     "data": {
      "text/plain": [
       "0.8245922546342203"
      ]
     },
     "execution_count": 39,
     "metadata": {},
     "output_type": "execute_result"
    }
   ],
   "source": [
    "import random\n",
    "random.random()"
   ]
  }
 ],
 "metadata": {
  "kernelspec": {
   "display_name": "Python 3",
   "language": "python",
   "name": "python3"
  },
  "language_info": {
   "codemirror_mode": {
    "name": "ipython",
    "version": 3
   },
   "file_extension": ".py",
   "mimetype": "text/x-python",
   "name": "python",
   "nbconvert_exporter": "python",
   "pygments_lexer": "ipython3",
   "version": "3.6.9"
  }
 },
 "nbformat": 4,
 "nbformat_minor": 2
}
