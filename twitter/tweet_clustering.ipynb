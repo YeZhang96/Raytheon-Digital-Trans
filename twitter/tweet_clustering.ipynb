{
 "cells": [
  {
   "cell_type": "markdown",
   "metadata": {},
   "source": [
    "# Preprocessing"
   ]
  },
  {
   "cell_type": "code",
   "execution_count": 1,
   "metadata": {},
   "outputs": [],
   "source": [
    "import re, string\n",
    "class Preprocessor:\n",
    "    def __init__(self, tokenize_func, stopwords, stem_func):\n",
    "        self.tokenize = tokenize_func\n",
    "        self.stopwords = stopwords\n",
    "        self.stem = stem_func\n",
    "    \n",
    "    def remove_urls(self, text):\n",
    "        return re.sub(r'https?:.*', '', text)\n",
    "    \n",
    "    def remove_puncts(self, text):\n",
    "        return text.translate(str.maketrans('', '', string.punctuation))\n",
    "    \n",
    "    def process(self, text, tokenize=False, remove_urls=False, remove_puncts=False, remove_stopwords=False, stem=False):\n",
    "        if remove_urls:\n",
    "            text = self.remove_urls(text)\n",
    "        if remove_puncts:\n",
    "            text = self.remove_puncts(text)\n",
    "        if tokenize:\n",
    "            words = self.tokenize(text)\n",
    "            if remove_stopwords:\n",
    "                words = [w for w in words if w not in self.stopwords]\n",
    "            if stem:\n",
    "                words = [self.stem(w) for w in words]\n",
    "            return words\n",
    "        return text\n",
    "        \n"
   ]
  },
  {
   "cell_type": "code",
   "execution_count": null,
   "metadata": {},
   "outputs": [],
   "source": [
    "# test preprocessor\n",
    "\"\""
   ]
  },
  {
   "cell_type": "markdown",
   "metadata": {},
   "source": [
    "# Vectorization functions\n"
   ]
  },
  {
   "cell_type": "code",
   "execution_count": null,
   "metadata": {},
   "outputs": [],
   "source": [
    "class Vectorizer:\n",
    "    def word2vec(self, text):\n",
    "        pass\n",
    "    \n",
    "    def fasttext(self, text):\n",
    "        pass\n",
    "    \n",
    "    def glove(self, text):\n",
    "        pass\n",
    "    \n",
    "    def bow(self, text):\n",
    "        pass\n",
    "    \n",
    "    def tfidf(self, text):\n",
    "        pass\n",
    "    \n",
    "    def bert(self, text):\n",
    "        pass\n",
    "    \n",
    "    def elmo(self, text):\n",
    "        pass\n",
    "    \n",
    "    def fit(self, corpus):\n",
    "        pass"
   ]
  }
 ],
 "metadata": {
  "kernelspec": {
   "display_name": "Python 3",
   "language": "python",
   "name": "python3"
  },
  "language_info": {
   "codemirror_mode": {
    "name": "ipython",
    "version": 3
   },
   "file_extension": ".py",
   "mimetype": "text/x-python",
   "name": "python",
   "nbconvert_exporter": "python",
   "pygments_lexer": "ipython3",
   "version": "3.6.9"
  }
 },
 "nbformat": 4,
 "nbformat_minor": 2
}
